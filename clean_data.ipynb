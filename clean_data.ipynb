{
 "cells": [
  {
   "cell_type": "markdown",
   "metadata": {},
   "source": [
    "# Data Cleaning \n",
    "\n",
    "#### Alvee Hoque 08-12-21\n",
    "\n",
    "Found a new data source with all game logs, stats, etc from [GridironAI]('gridironai.com') and will be cleaning the data for features needed for ML Model. I won't be uploading the gridiron modeling data however I have my subset for only the fantasy data that will be accessible. There is another notebook in this repo that goes over scraping data from [ProFootball Reference]('https://www.pro-football-reference.com/'). "
   ]
  },
  {
   "cell_type": "code",
   "execution_count": 1,
   "metadata": {},
   "outputs": [],
   "source": [
    "# Imports\n",
    "import pandas as pd\n",
    "import seaborn as sns"
   ]
  },
  {
   "cell_type": "code",
   "execution_count": 2,
   "metadata": {},
   "outputs": [],
   "source": [
    "pd.set_option(\"display.max_rows\", None)\n",
    "pd.set_option(\"display.max_columns\", None)"
   ]
  },
  {
   "cell_type": "markdown",
   "metadata": {},
   "source": [
    "Task: Predictions for Each Game \n",
    "    1. Get all qbs / rbs / wr / te \n",
    "    2. get fantasy points per week for qbs (do without playoffs)\n",
    "    3. create new dataframe with name + game_num and fantasy points for that game \n",
    "        - create a convention ie. Player game1_2020, game2_2020, etc. \n",
    "\n",
    "Task: Prediction for Season\n",
    "    1. get all qbs \n",
    "    2. get fantasy points per week per qb. \n",
    "    3. forecast season total\n",
    "\n"
   ]
  },
  {
   "cell_type": "code",
   "execution_count": 3,
   "metadata": {},
   "outputs": [],
   "source": [
    "# read data \n",
    "df = pd.read_csv('gridironai/player_data_2020.csv')"
   ]
  },
  {
   "cell_type": "code",
   "execution_count": 4,
   "metadata": {},
   "outputs": [],
   "source": [
    "qb = df[(df.position_id == 'QB') & (df.playoffs == 0)]\n",
    "rb = df[(df.position_id == 'RB') & (df.playoffs == 0)]\n",
    "wr = df[(df.position_id == 'WR') & (df.playoffs == 0)]\n",
    "te = df[(df.position_id == 'TE') & (df.playoffs == 0)]"
   ]
  },
  {
   "cell_type": "code",
   "execution_count": 5,
   "metadata": {},
   "outputs": [
    {
     "name": "stdout",
     "output_type": "stream",
     "text": [
      "<class 'pandas.core.frame.DataFrame'>\n",
      "Int64Index: 641 entries, 27 to 23098\n",
      "Data columns (total 59 columns):\n",
      " #   Column                             Non-Null Count  Dtype  \n",
      "---  ------                             --------------  -----  \n",
      " 0   player_id                          641 non-null    int64  \n",
      " 1   franchise_id                       641 non-null    object \n",
      " 2   position_id                        641 non-null    object \n",
      " 3   name                               641 non-null    object \n",
      " 4   NFL_draft_year                     579 non-null    float64\n",
      " 5   NFL_draft_round                    579 non-null    float64\n",
      " 6   NFL_draft_rank                     579 non-null    float64\n",
      " 7   height_inches                      638 non-null    float64\n",
      " 8   weight_pounds                      638 non-null    float64\n",
      " 9   birthdate                          641 non-null    object \n",
      " 10  forty_yd                           511 non-null    float64\n",
      " 11  three_cone                         411 non-null    float64\n",
      " 12  bench                              0 non-null      float64\n",
      " 13  broad_jump                         449 non-null    float64\n",
      " 14  combine_height                     584 non-null    float64\n",
      " 15  shuttle                            411 non-null    float64\n",
      " 16  vertical                           460 non-null    float64\n",
      " 17  combine_weight                     584 non-null    float64\n",
      " 18  season                             641 non-null    int64  \n",
      " 19  week                               641 non-null    int64  \n",
      " 20  fanduel_price                      610 non-null    float64\n",
      " 21  fanduel_points                     641 non-null    float64\n",
      " 22  proj_mean_fanduel_points           641 non-null    float64\n",
      " 23  proj_downside_fanduel_points       641 non-null    float64\n",
      " 24  proj_upside_fanduel_points         641 non-null    float64\n",
      " 25  draftkings_price                   441 non-null    float64\n",
      " 26  draftkings_points                  641 non-null    float64\n",
      " 27  proj_mean_draftkings_points        641 non-null    float64\n",
      " 28  proj_downside_draftkings_points    641 non-null    float64\n",
      " 29  proj_upside_draftkings_points      641 non-null    float64\n",
      " 30  vegas_line                         641 non-null    object \n",
      " 31  beat_line                          641 non-null    object \n",
      " 32  offensive_snapcount                625 non-null    float64\n",
      " 33  offensive_snapcount_percentage     625 non-null    float64\n",
      " 34  defensive_snapcount                625 non-null    float64\n",
      " 35  defensive_snapcount_percentage     625 non-null    float64\n",
      " 36  special_team_snapcount             625 non-null    float64\n",
      " 37  special_team_snapcount_percentage  625 non-null    float64\n",
      " 38  game_starter                       641 non-null    int64  \n",
      " 39  game_location                      641 non-null    object \n",
      " 40  playoffs                           641 non-null    int64  \n",
      " 41  passing_int                        625 non-null    float64\n",
      " 42  passing_rating                     582 non-null    float64\n",
      " 43  passing_yds                        625 non-null    float64\n",
      " 44  passing_two_pt_md                  4 non-null      float64\n",
      " 45  passing_td                         625 non-null    float64\n",
      " 46  passing_att                        625 non-null    float64\n",
      " 47  passing_cmp                        625 non-null    float64\n",
      " 48  receiving_yds                      344 non-null    float64\n",
      " 49  receiving_td                       344 non-null    float64\n",
      " 50  receiving_rec                      344 non-null    float64\n",
      " 51  receiving_tar                      344 non-null    float64\n",
      " 52  rushing_att                        621 non-null    float64\n",
      " 53  rushing_td                         621 non-null    float64\n",
      " 54  rushing_yds                        621 non-null    float64\n",
      " 55  fumbles                            604 non-null    float64\n",
      " 56  fumbles_lost                       604 non-null    float64\n",
      " 57  fumbles_rec                        604 non-null    float64\n",
      " 58  fumbles_rec_yds                    604 non-null    float64\n",
      "dtypes: float64(47), int64(5), object(7)\n",
      "memory usage: 300.5+ KB\n"
     ]
    }
   ],
   "source": [
    "qb.info()"
   ]
  },
  {
   "cell_type": "code",
   "execution_count": 6,
   "metadata": {},
   "outputs": [],
   "source": [
    "qb_cols = ['player_id', 'franchise_id', 'position_id', 'name', 'season', 'week', \n",
    "           'passing_yds', 'passing_td', 'passing_int','rushing_yds', 'rushing_td', 'fumbles_lost']\n",
    "\n",
    "qb = qb[qb_cols]"
   ]
  },
  {
   "cell_type": "code",
   "execution_count": 7,
   "metadata": {},
   "outputs": [
    {
     "data": {
      "text/plain": [
       "<matplotlib.axes._subplots.AxesSubplot at 0x23e8d558248>"
      ]
     },
     "execution_count": 7,
     "metadata": {},
     "output_type": "execute_result"
    },
    {
     "data": {
      "image/png": "[encoded data removed]",
      "text/plain": [
       "<Figure size 432x288 with 2 Axes>"
      ]
     },
     "metadata": {
      "needs_background": "light"
     },
     "output_type": "display_data"
    }
   ],
   "source": [
    "# checking for null values, if null, most likely can fill with 0's for simplicity\n",
    "sns.heatmap(qb.isnull())"
   ]
  },
  {
   "cell_type": "code",
   "execution_count": 8,
   "metadata": {},
   "outputs": [],
   "source": [
    "qb.fillna(value=0, inplace=True)"
   ]
  },
  {
   "cell_type": "code",
   "execution_count": 9,
   "metadata": {},
   "outputs": [],
   "source": [
    "# Fantasy HalfPPR\n",
    "qb['HalfPPR'] = (qb.passing_yds/25 + qb.passing_td*4 - qb.passing_int*2 + qb.rushing_yds/10 + qb.rushing_td*6 - qb.fumbles_lost*2)"
   ]
  },
  {
   "cell_type": "code",
   "execution_count": 10,
   "metadata": {},
   "outputs": [
    {
     "data": {
      "text/plain": [
       "<matplotlib.axes._subplots.AxesSubplot at 0x23e8e8e3548>"
      ]
     },
     "execution_count": 10,
     "metadata": {},
     "output_type": "execute_result"
    },
    {
     "data": {
      "image/png": "[encoded data removed]",
      "text/plain": [
       "<Figure size 432x288 with 2 Axes>"
      ]
     },
     "metadata": {
      "needs_background": "light"
     },
     "output_type": "display_data"
    }
   ],
   "source": [
    "sns.heatmap(qb.isnull())"
   ]
  },
  {
   "cell_type": "markdown",
   "metadata": {},
   "source": [
    "This data looks good to go. Will create the csv files below"
   ]
  },
  {
   "cell_type": "markdown",
   "metadata": {},
   "source": [
    "## Create CSV Files"
   ]
  },
  {
   "cell_type": "code",
   "execution_count": 95,
   "metadata": {},
   "outputs": [],
   "source": [
    "# columns of interest\n",
    "cols = ['player_id', 'franchise_id', 'position_id', 'name', 'season', 'week', 'playoffs', \n",
    "        'passing_yds', 'passing_td', 'passing_int','rushing_yds', 'rushing_td', \n",
    "        'receiving_rec', 'receiving_yds', 'receiving_td', 'fumbles_lost']"
   ]
  },
  {
   "cell_type": "code",
   "execution_count": 128,
   "metadata": {},
   "outputs": [],
   "source": [
    "for year in range(2000,2021):\n",
    "    # read file \n",
    "    df = pd.read_csv(f'gridironai/player_data_{year}.csv', usecols=cols)\n",
    "    \n",
    "    # skip playoff stats\n",
    "    df = df[df.playoffs == 0]\n",
    "    \n",
    "    # fill missing values with 0 \n",
    "    df.fillna(value=0,inplace=True)\n",
    "    \n",
    "    \n",
    "    df['HalfPPR'] = df.passing_yds/25 + df.passing_td*4 - df.passing_int*2 + df.rushing_yds/10 + df.rushing_td*6 - df.fumbles_lost*2 + df.receiving_rec*0.5 +df.receiving_yds/10 +df.receiving_td*6\n",
    "\n",
    "    \n",
    "    #individual df per position\n",
    "    qb = df[df.position_id == 'QB']\n",
    "    rb = df[df.position_id == 'RB']\n",
    "    wr = df[df.position_id == 'WR']\n",
    "    te = df[df.position_id == 'TE']\n",
    "    \n",
    "    if year == 2000: \n",
    "    \n",
    "        final_qb = qb.groupby(['name','week'])['HalfPPR'].mean().unstack()\n",
    "        final_rb = rb.groupby(['name','week'])['HalfPPR'].mean().unstack()\n",
    "        final_wr = wr.groupby(['name','week'])['HalfPPR'].mean().unstack()\n",
    "        final_te = te.groupby(['name','week'])['HalfPPR'].mean().unstack()\n",
    "\n",
    "        final_qb = final_qb.add_prefix(f'{year}_game')\n",
    "        final_rb = final_rb.add_prefix(f'{year}_game')\n",
    "        final_wr = final_wr.add_prefix(f'{year}_game')\n",
    "        final_te = final_te.add_prefix(f'{year}_game')\n",
    "        \n",
    "        \n",
    "    else: \n",
    "        \n",
    "        temp1_qb = qb.groupby(['name','week'])['HalfPPR'].mean().unstack()\n",
    "        temp1_rb = rb.groupby(['name','week'])['HalfPPR'].mean().unstack()\n",
    "        temp1_wr = wr.groupby(['name','week'])['HalfPPR'].mean().unstack()\n",
    "        temp1_te = te.groupby(['name','week'])['HalfPPR'].mean().unstack()\n",
    "\n",
    "        temp1_qb = temp1_qb.add_prefix(f'{year}_game')\n",
    "        temp1_rb = temp1_rb.add_prefix(f'{year}_game')\n",
    "        temp1_wr = temp1_wr.add_prefix(f'{year}_game')\n",
    "        temp1_te = temp1_te.add_prefix(f'{year}_game')\n",
    "             \n",
    "        \n",
    "    if year > 2000: \n",
    "        final_qb = pd.concat([final_qb,temp1_qb],axis=1) \n",
    "        final_rb = pd.concat([final_rb,temp1_rb],axis=1) \n",
    "        final_wr = pd.concat([final_wr,temp1_wr],axis=1) \n",
    "        final_te = pd.concat([final_te,temp1_te],axis=1) \n",
    "    \n",
    "final_qb.sort_index(inplace=True)\n",
    "final_rb.sort_index(inplace=True)\n",
    "final_wr.sort_index(inplace=True)\n",
    "final_te.sort_index(inplace=True)"
   ]
  },
  {
   "cell_type": "code",
   "execution_count": 130,
   "metadata": {},
   "outputs": [],
   "source": [
    "final_qb.to_csv('qb_fantasy.csv')\n",
    "final_rb.to_csv('rb_fantasy.csv')\n",
    "final_wr.to_csv('wr_fantasy.csv')\n",
    "final_te.to_csv('te_fantasy.csv')"
   ]
  },
  {
   "cell_type": "code",
   "execution_count": 131,
   "metadata": {},
   "outputs": [],
   "source": [
    "\n"
   ]
  },
  {
   "cell_type": "code",
   "execution_count": null,
   "metadata": {},
   "outputs": [],
   "source": []
  },
  {
   "cell_type": "code",
   "execution_count": null,
   "metadata": {},
   "outputs": [],
   "source": []
  },
  {
   "cell_type": "code",
   "execution_count": null,
   "metadata": {},
   "outputs": [],
   "source": []
  },
  {
   "cell_type": "code",
   "execution_count": null,
   "metadata": {},
   "outputs": [],
   "source": []
  },
  {
   "cell_type": "code",
   "execution_count": null,
   "metadata": {},
   "outputs": [],
   "source": []
  },
  {
   "cell_type": "code",
   "execution_count": null,
   "metadata": {},
   "outputs": [],
   "source": []
  },
  {
   "cell_type": "code",
   "execution_count": null,
   "metadata": {},
   "outputs": [],
   "source": []
  },
  {
   "cell_type": "code",
   "execution_count": null,
   "metadata": {},
   "outputs": [],
   "source": []
  },
  {
   "cell_type": "code",
   "execution_count": null,
   "metadata": {},
   "outputs": [],
   "source": []
  },
  {
   "cell_type": "code",
   "execution_count": null,
   "metadata": {},
   "outputs": [],
   "source": []
  },
  {
   "cell_type": "code",
   "execution_count": null,
   "metadata": {},
   "outputs": [],
   "source": []
  },
  {
   "cell_type": "code",
   "execution_count": null,
   "metadata": {},
   "outputs": [],
   "source": []
  },
  {
   "cell_type": "code",
   "execution_count": null,
   "metadata": {},
   "outputs": [],
   "source": []
  },
  {
   "cell_type": "code",
   "execution_count": null,
   "metadata": {},
   "outputs": [],
   "source": []
  },
  {
   "cell_type": "code",
   "execution_count": 6,
   "metadata": {},
   "outputs": [],
   "source": []
  },
  {
   "cell_type": "code",
   "execution_count": null,
   "metadata": {},
   "outputs": [],
   "source": []
  },
  {
   "cell_type": "code",
   "execution_count": null,
   "metadata": {},
   "outputs": [],
   "source": []
  }
 ],
 "metadata": {
  "kernelspec": {
   "display_name": "Python 3",
   "language": "python",
   "name": "python3"
  },
  "language_info": {
   "codemirror_mode": {
    "name": "ipython",
    "version": 3
   },
   "file_extension": ".py",
   "mimetype": "text/x-python",
   "name": "python",
   "nbconvert_exporter": "python",
   "pygments_lexer": "ipython3",
   "version": "3.7.6"
  }
 },
 "nbformat": 4,
 "nbformat_minor": 4
}
