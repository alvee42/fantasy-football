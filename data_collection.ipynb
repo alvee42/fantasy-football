{
 "cells": [
  {
   "cell_type": "markdown",
   "metadata": {},
   "source": [
    "# Fantasy Football Data Collection\n",
    "#### Alvee Hoque 07/28/21 \n",
    "\n",
    "Scrape [Profootball Reference](https://www.pro-football-reference.com/) for season stats. "
   ]
  },
  {
   "cell_type": "code",
   "execution_count": 1,
   "metadata": {},
   "outputs": [],
   "source": [
    "import pandas as pd\n",
    "from urllib.request import urlopen\n",
    "from bs4 import BeautifulSoup"
   ]
  },
  {
   "cell_type": "code",
   "execution_count": 56,
   "metadata": {},
   "outputs": [],
   "source": [
    "def pfr_scraper(year1,year2,stat_type):\n",
    "    \n",
    "    for yr in range(year1,year2+1):\n",
    "        url_template = f'https://www.pro-football-reference.com/years/{yr}/{stat_type}.htm'\n",
    "        html = urlopen(url_template)\n",
    "        soup = BeautifulSoup(html)\n",
    "        \n",
    "        if stat_type == 'rushing':\n",
    "            # rushing page has another label row for games + rushing, avoiding that row \n",
    "            headers = [th.getText() for th in soup.findAll('tr')[1].findAll('th')]\n",
    "        else: \n",
    "            headers = [th.getText() for th in soup.findAll('tr')[0].findAll('th')]\n",
    "\n",
    "        headers = headers[1:]\n",
    "        \n",
    "        rows = soup.findAll('tr', class_ = lambda table_rows: table_rows != 'thead')\n",
    "        player_stats = [[td.getText() for td in rows[i].findAll('td')] for i in range(len(rows))]\n",
    "\n",
    "        df = pd.DataFrame(player_stats[1:], columns=headers)\n",
    "        df['Year'] = yr\n",
    "        \n",
    "        df.to_csv(f'{yr}_{stat_type}.csv')\n",
    "        print(f'{yr}_{stat_type} created')\n"
   ]
  },
  {
   "cell_type": "code",
   "execution_count": 42,
   "metadata": {},
   "outputs": [
    {
     "name": "stdout",
     "output_type": "stream",
     "text": [
      "2000_passing created\n",
      "2001_passing created\n",
      "2002_passing created\n",
      "2003_passing created\n",
      "2004_passing created\n",
      "2005_passing created\n",
      "2006_passing created\n",
      "2007_passing created\n",
      "2008_passing created\n",
      "2009_passing created\n",
      "2010_passing created\n",
      "2011_passing created\n",
      "2012_passing created\n",
      "2013_passing created\n",
      "2014_passing created\n",
      "2015_passing created\n",
      "2016_passing created\n",
      "2017_passing created\n",
      "2018_passing created\n",
      "2019_passing created\n",
      "2020_passing created\n"
     ]
    }
   ],
   "source": [
    "pfr_scraper(2000,2020,'passing')"
   ]
  },
  {
   "cell_type": "code",
   "execution_count": 57,
   "metadata": {},
   "outputs": [
    {
     "name": "stdout",
     "output_type": "stream",
     "text": [
      "2000_rushing created\n",
      "2001_rushing created\n",
      "2002_rushing created\n",
      "2003_rushing created\n",
      "2004_rushing created\n",
      "2005_rushing created\n",
      "2006_rushing created\n",
      "2007_rushing created\n",
      "2008_rushing created\n",
      "2009_rushing created\n",
      "2010_rushing created\n",
      "2011_rushing created\n",
      "2012_rushing created\n",
      "2013_rushing created\n",
      "2014_rushing created\n",
      "2015_rushing created\n",
      "2016_rushing created\n",
      "2017_rushing created\n",
      "2018_rushing created\n",
      "2019_rushing created\n",
      "2020_rushing created\n"
     ]
    }
   ],
   "source": [
    "pfr_scraper(2000,2020,'rushing')"
   ]
  },
  {
   "cell_type": "code",
   "execution_count": 44,
   "metadata": {},
   "outputs": [
    {
     "name": "stdout",
     "output_type": "stream",
     "text": [
      "2000_receiving created\n",
      "2001_receiving created\n",
      "2002_receiving created\n",
      "2003_receiving created\n",
      "2004_receiving created\n",
      "2005_receiving created\n",
      "2006_receiving created\n",
      "2007_receiving created\n",
      "2008_receiving created\n",
      "2009_receiving created\n",
      "2010_receiving created\n",
      "2011_receiving created\n",
      "2012_receiving created\n",
      "2013_receiving created\n",
      "2014_receiving created\n",
      "2015_receiving created\n",
      "2016_receiving created\n",
      "2017_receiving created\n",
      "2018_receiving created\n",
      "2019_receiving created\n",
      "2020_receiving created\n"
     ]
    }
   ],
   "source": [
    "pfr_scraper(2000,2020,'receiving')"
   ]
  }
 ],
 "metadata": {
  "kernelspec": {
   "display_name": "Python 3",
   "language": "python",
   "name": "python3"
  },
  "language_info": {
   "codemirror_mode": {
    "name": "ipython",
    "version": 3
   },
   "file_extension": ".py",
   "mimetype": "text/x-python",
   "name": "python",
   "nbconvert_exporter": "python",
   "pygments_lexer": "ipython3",
   "version": "3.7.6"
  }
 },
 "nbformat": 4,
 "nbformat_minor": 4
}
